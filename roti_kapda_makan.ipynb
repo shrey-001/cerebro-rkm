{
 "cells": [
  {
   "cell_type": "code",
   "execution_count": 1,
   "metadata": {},
   "outputs": [],
   "source": [
    "# Importing Libraries\n",
    "\n",
    "# Linear Algebra\n",
    "import numpy as np\n",
    "\n",
    "# Data preprocessing\n",
    "import pandas as pd\n",
    "\n",
    "# Plotting Of Graph\n",
    "import matplotlib.pyplot as plt\n",
    "import seaborn as am\n",
    "\n",
    "# Our Linear Model\n",
    "from sklearn.linear_model import LinearRegression\n",
    "from sklearn.linear_model import Lasso\n",
    "\n",
    "# Dimensional Reduction\n",
    "from sklearn.decomposition import PCA"
   ]
  },
  {
   "cell_type": "code",
   "execution_count": 2,
   "metadata": {},
   "outputs": [],
   "source": [
    "# Reading the Train and Test data \n",
    "train=pd.read_csv(r\"E:\\bh rkm\\train.csv\")\n",
    "test=pd.read_csv(r\"E:\\bh rkm\\test.csv\")\n",
    "\n",
    "# Concatenating the test and train data \n",
    "df=pd.concat([train,test],sort=False,ignore_index=True)\n"
   ]
  },
  {
   "cell_type": "code",
   "execution_count": 3,
   "metadata": {},
   "outputs": [
    {
     "name": "stdout",
     "output_type": "stream",
     "text": [
      "<class 'pandas.core.frame.DataFrame'>\n",
      "RangeIndex: 142981 entries, 0 to 142980\n",
      "Data columns (total 15 columns):\n",
      "TID               142981 non-null int64\n",
      "Date              142981 non-null object\n",
      "Property Type     142981 non-null object\n",
      "OldvNew           142981 non-null object\n",
      "Duration          142981 non-null object\n",
      "AddressLine1      142981 non-null object\n",
      "AddressLine2      19354 non-null object\n",
      "Street            140320 non-null object\n",
      "Locality          54109 non-null object\n",
      "Town              142981 non-null object\n",
      "Taluka            142981 non-null object\n",
      "District          142981 non-null object\n",
      "Postcode          142328 non-null object\n",
      "Price             142981 non-null float64\n",
      "Price Category    142981 non-null object\n",
      "dtypes: float64(1), int64(1), object(13)\n",
      "memory usage: 16.4+ MB\n"
     ]
    }
   ],
   "source": [
    "# Finding the Columns which have many null values\n",
    "\n",
    "\n",
    "# Getting the information about the test data \n",
    "train.info()"
   ]
  },
  {
   "cell_type": "code",
   "execution_count": 4,
   "metadata": {},
   "outputs": [
    {
     "name": "stdout",
     "output_type": "stream",
     "text": [
      "<class 'pandas.core.frame.DataFrame'>\n",
      "RangeIndex: 61277 entries, 0 to 61276\n",
      "Data columns (total 14 columns):\n",
      "TID               61277 non-null int64\n",
      "Date              61277 non-null object\n",
      "Property Type     61277 non-null object\n",
      "OldvNew           61277 non-null object\n",
      "Duration          61277 non-null object\n",
      "AddressLine1      61277 non-null object\n",
      "AddressLine2      8173 non-null object\n",
      "Street            60119 non-null object\n",
      "Locality          23379 non-null object\n",
      "Town              61277 non-null object\n",
      "Taluka            61277 non-null object\n",
      "District          61277 non-null object\n",
      "Postcode          60959 non-null object\n",
      "Price Category    61277 non-null object\n",
      "dtypes: int64(1), object(13)\n",
      "memory usage: 6.5+ MB\n"
     ]
    }
   ],
   "source": [
    "# Getting the information about the train data\n",
    "test.info()"
   ]
  },
  {
   "cell_type": "code",
   "execution_count": 5,
   "metadata": {},
   "outputs": [
    {
     "data": {
      "text/html": [
       "<div>\n",
       "<style scoped>\n",
       "    .dataframe tbody tr th:only-of-type {\n",
       "        vertical-align: middle;\n",
       "    }\n",
       "\n",
       "    .dataframe tbody tr th {\n",
       "        vertical-align: top;\n",
       "    }\n",
       "\n",
       "    .dataframe thead th {\n",
       "        text-align: right;\n",
       "    }\n",
       "</style>\n",
       "<table border=\"1\" class=\"dataframe\">\n",
       "  <thead>\n",
       "    <tr style=\"text-align: right;\">\n",
       "      <th></th>\n",
       "      <th>TID</th>\n",
       "      <th>Date</th>\n",
       "      <th>Property Type</th>\n",
       "      <th>OldvNew</th>\n",
       "      <th>Duration</th>\n",
       "      <th>AddressLine1</th>\n",
       "      <th>Town</th>\n",
       "      <th>Taluka</th>\n",
       "      <th>District</th>\n",
       "      <th>Postcode</th>\n",
       "      <th>Price</th>\n",
       "      <th>Price Category</th>\n",
       "    </tr>\n",
       "  </thead>\n",
       "  <tbody>\n",
       "    <tr>\n",
       "      <td>0</td>\n",
       "      <td>909733</td>\n",
       "      <td>26-11-2018</td>\n",
       "      <td>T</td>\n",
       "      <td>N</td>\n",
       "      <td>F</td>\n",
       "      <td>57</td>\n",
       "      <td>EYLFYL</td>\n",
       "      <td>OUSGLBQ</td>\n",
       "      <td>JKBUMBK EYLFYL</td>\n",
       "      <td>B4 7XD</td>\n",
       "      <td>845.0</td>\n",
       "      <td>A</td>\n",
       "    </tr>\n",
       "    <tr>\n",
       "      <td>1</td>\n",
       "      <td>827610</td>\n",
       "      <td>26-10-2018</td>\n",
       "      <td>T</td>\n",
       "      <td>N</td>\n",
       "      <td>L</td>\n",
       "      <td>4</td>\n",
       "      <td>HKRXMYE</td>\n",
       "      <td>SRMQ YV HKRXMYE</td>\n",
       "      <td>SRMQ YV HKRXMYE</td>\n",
       "      <td>HX03 0FQ</td>\n",
       "      <td>225.0</td>\n",
       "      <td>A</td>\n",
       "    </tr>\n",
       "    <tr>\n",
       "      <td>2</td>\n",
       "      <td>680513</td>\n",
       "      <td>07-09-2018</td>\n",
       "      <td>D</td>\n",
       "      <td>Y</td>\n",
       "      <td>F</td>\n",
       "      <td>5</td>\n",
       "      <td>ZRLSOBXMBK</td>\n",
       "      <td>ZRLSOBXMBK</td>\n",
       "      <td>OUNCXORKB</td>\n",
       "      <td>XY56 9JD</td>\n",
       "      <td>872.5</td>\n",
       "      <td>A</td>\n",
       "    </tr>\n",
       "    <tr>\n",
       "      <td>3</td>\n",
       "      <td>798754</td>\n",
       "      <td>19-10-2018</td>\n",
       "      <td>S</td>\n",
       "      <td>N</td>\n",
       "      <td>F</td>\n",
       "      <td>55</td>\n",
       "      <td>LYKZRSO</td>\n",
       "      <td>LYKMO LYKVYEG</td>\n",
       "      <td>LYKVYEG</td>\n",
       "      <td>LK05 7KE</td>\n",
       "      <td>130.1</td>\n",
       "      <td>A</td>\n",
       "    </tr>\n",
       "    <tr>\n",
       "      <td>4</td>\n",
       "      <td>612097</td>\n",
       "      <td>17-08-2018</td>\n",
       "      <td>S</td>\n",
       "      <td>N</td>\n",
       "      <td>F</td>\n",
       "      <td>20</td>\n",
       "      <td>XYWMOCYKM</td>\n",
       "      <td>XBVMYL</td>\n",
       "      <td>NBKXBQXRFB</td>\n",
       "      <td>CK8 2TU</td>\n",
       "      <td>160.0</td>\n",
       "      <td>A</td>\n",
       "    </tr>\n",
       "    <tr>\n",
       "      <td>...</td>\n",
       "      <td>...</td>\n",
       "      <td>...</td>\n",
       "      <td>...</td>\n",
       "      <td>...</td>\n",
       "      <td>...</td>\n",
       "      <td>...</td>\n",
       "      <td>...</td>\n",
       "      <td>...</td>\n",
       "      <td>...</td>\n",
       "      <td>...</td>\n",
       "      <td>...</td>\n",
       "      <td>...</td>\n",
       "    </tr>\n",
       "    <tr>\n",
       "      <td>204253</td>\n",
       "      <td>231603</td>\n",
       "      <td>05-04-2018</td>\n",
       "      <td>S</td>\n",
       "      <td>Y</td>\n",
       "      <td>F</td>\n",
       "      <td>37</td>\n",
       "      <td>HUXRLJXMYGB</td>\n",
       "      <td>HUXRLJXMYGB ULF FBULB</td>\n",
       "      <td>OUNCXORKB</td>\n",
       "      <td>KJ50 3UA</td>\n",
       "      <td>NaN</td>\n",
       "      <td>A</td>\n",
       "    </tr>\n",
       "    <tr>\n",
       "      <td>204254</td>\n",
       "      <td>178145</td>\n",
       "      <td>16-03-2018</td>\n",
       "      <td>D</td>\n",
       "      <td>N</td>\n",
       "      <td>F</td>\n",
       "      <td>03U</td>\n",
       "      <td>FKRVVRBEF</td>\n",
       "      <td>BUXM KRFRLJ YV QYKGXORKB</td>\n",
       "      <td>BUXM KRFRLJ YV QYKGXORKB</td>\n",
       "      <td>QY54 8AT</td>\n",
       "      <td>NaN</td>\n",
       "      <td>A</td>\n",
       "    </tr>\n",
       "    <tr>\n",
       "      <td>204255</td>\n",
       "      <td>932469</td>\n",
       "      <td>30-11-2018</td>\n",
       "      <td>S</td>\n",
       "      <td>Y</td>\n",
       "      <td>F</td>\n",
       "      <td>8</td>\n",
       "      <td>HYKFYL</td>\n",
       "      <td>BUXM OUNCXORKB</td>\n",
       "      <td>OUNCXORKB</td>\n",
       "      <td>JW64 7JZ</td>\n",
       "      <td>NaN</td>\n",
       "      <td>A</td>\n",
       "    </tr>\n",
       "    <tr>\n",
       "      <td>204256</td>\n",
       "      <td>521298</td>\n",
       "      <td>19-07-2018</td>\n",
       "      <td>S</td>\n",
       "      <td>N</td>\n",
       "      <td>F</td>\n",
       "      <td>7</td>\n",
       "      <td>OYKXOUN</td>\n",
       "      <td>OYKXOUN</td>\n",
       "      <td>ZBXM XWXXBA</td>\n",
       "      <td>KO05 1LA</td>\n",
       "      <td>NaN</td>\n",
       "      <td>A</td>\n",
       "    </tr>\n",
       "    <tr>\n",
       "      <td>204257</td>\n",
       "      <td>443052</td>\n",
       "      <td>25-06-2018</td>\n",
       "      <td>S</td>\n",
       "      <td>N</td>\n",
       "      <td>F</td>\n",
       "      <td>41</td>\n",
       "      <td>HUKLXEBQ</td>\n",
       "      <td>HUKLXEBQ</td>\n",
       "      <td>XYWMO QYKGXORKB</td>\n",
       "      <td>X94 5KX</td>\n",
       "      <td>NaN</td>\n",
       "      <td>A</td>\n",
       "    </tr>\n",
       "  </tbody>\n",
       "</table>\n",
       "<p>204258 rows × 12 columns</p>\n",
       "</div>"
      ],
      "text/plain": [
       "           TID        Date Property Type OldvNew Duration AddressLine1  \\\n",
       "0       909733  26-11-2018             T       N        F           57   \n",
       "1       827610  26-10-2018             T       N        L            4   \n",
       "2       680513  07-09-2018             D       Y        F            5   \n",
       "3       798754  19-10-2018             S       N        F           55   \n",
       "4       612097  17-08-2018             S       N        F           20   \n",
       "...        ...         ...           ...     ...      ...          ...   \n",
       "204253  231603  05-04-2018             S       Y        F           37   \n",
       "204254  178145  16-03-2018             D       N        F          03U   \n",
       "204255  932469  30-11-2018             S       Y        F            8   \n",
       "204256  521298  19-07-2018             S       N        F            7   \n",
       "204257  443052  25-06-2018             S       N        F           41   \n",
       "\n",
       "               Town                    Taluka                  District  \\\n",
       "0            EYLFYL                   OUSGLBQ            JKBUMBK EYLFYL   \n",
       "1           HKRXMYE           SRMQ YV HKRXMYE           SRMQ YV HKRXMYE   \n",
       "2        ZRLSOBXMBK                ZRLSOBXMBK                 OUNCXORKB   \n",
       "3           LYKZRSO             LYKMO LYKVYEG                   LYKVYEG   \n",
       "4         XYWMOCYKM                    XBVMYL                NBKXBQXRFB   \n",
       "...             ...                       ...                       ...   \n",
       "204253  HUXRLJXMYGB     HUXRLJXMYGB ULF FBULB                 OUNCXORKB   \n",
       "204254    FKRVVRBEF  BUXM KRFRLJ YV QYKGXORKB  BUXM KRFRLJ YV QYKGXORKB   \n",
       "204255       HYKFYL            BUXM OUNCXORKB                 OUNCXORKB   \n",
       "204256      OYKXOUN                   OYKXOUN               ZBXM XWXXBA   \n",
       "204257     HUKLXEBQ                  HUKLXEBQ           XYWMO QYKGXORKB   \n",
       "\n",
       "        Postcode  Price Price Category  \n",
       "0         B4 7XD  845.0              A  \n",
       "1       HX03 0FQ  225.0              A  \n",
       "2       XY56 9JD  872.5              A  \n",
       "3       LK05 7KE  130.1              A  \n",
       "4        CK8 2TU  160.0              A  \n",
       "...          ...    ...            ...  \n",
       "204253  KJ50 3UA    NaN              A  \n",
       "204254  QY54 8AT    NaN              A  \n",
       "204255  JW64 7JZ    NaN              A  \n",
       "204256  KO05 1LA    NaN              A  \n",
       "204257   X94 5KX    NaN              A  \n",
       "\n",
       "[204258 rows x 12 columns]"
      ]
     },
     "execution_count": 5,
     "metadata": {},
     "output_type": "execute_result"
    }
   ],
   "source": [
    "# We can drop the column 'Street' ,'AddressLine2' and 'Locality' because it has many null values.\n",
    "\n",
    "df=df.drop(['Street','Locality','AddressLine2'],axis=1)\n",
    "df"
   ]
  },
  {
   "cell_type": "code",
   "execution_count": 6,
   "metadata": {},
   "outputs": [],
   "source": [
    "# we have mostly categorical values in our data\n",
    "\n",
    "# Lets first analyse explore our categorical feature"
   ]
  },
  {
   "cell_type": "code",
   "execution_count": 7,
   "metadata": {},
   "outputs": [
    {
     "data": {
      "text/plain": [
       "N    178644\n",
       "Y     25614\n",
       "Name: OldvNew, dtype: int64"
      ]
     },
     "execution_count": 7,
     "metadata": {},
     "output_type": "execute_result"
    }
   ],
   "source": [
    "# value count of each feature in column\n",
    "\n",
    "df['OldvNew'].value_counts()"
   ]
  },
  {
   "cell_type": "code",
   "execution_count": 8,
   "metadata": {},
   "outputs": [
    {
     "data": {
      "image/png": "[encoded data removed]",
      "text/plain": [
       "<Figure size 432x288 with 1 Axes>"
      ]
     },
     "metadata": {
      "needs_background": "light"
     },
     "output_type": "display_data"
    }
   ],
   "source": [
    "# Plotting a bar graph of the number of occurances in category listed in the column 'OldvNew'\n",
    "\n",
    "oldvnew_count= df['OldvNew'].value_counts()\n",
    "plt.figure()\n",
    "am.barplot(oldvnew_count.index, oldvnew_count.values)\n",
    "plt.ylabel('Number of Occurrences')\n",
    "plt.xlabel('OldvNew')\n",
    "plt.show()"
   ]
  },
  {
   "cell_type": "code",
   "execution_count": 9,
   "metadata": {},
   "outputs": [
    {
     "data": {
      "text/html": [
       "<div>\n",
       "<style scoped>\n",
       "    .dataframe tbody tr th:only-of-type {\n",
       "        vertical-align: middle;\n",
       "    }\n",
       "\n",
       "    .dataframe tbody tr th {\n",
       "        vertical-align: top;\n",
       "    }\n",
       "\n",
       "    .dataframe thead th {\n",
       "        text-align: right;\n",
       "    }\n",
       "</style>\n",
       "<table border=\"1\" class=\"dataframe\">\n",
       "  <thead>\n",
       "    <tr style=\"text-align: right;\">\n",
       "      <th></th>\n",
       "      <th>Price</th>\n",
       "    </tr>\n",
       "    <tr>\n",
       "      <th>OldvNew</th>\n",
       "      <th></th>\n",
       "    </tr>\n",
       "  </thead>\n",
       "  <tbody>\n",
       "    <tr>\n",
       "      <td>N</td>\n",
       "      <td>262.530579</td>\n",
       "    </tr>\n",
       "    <tr>\n",
       "      <td>Y</td>\n",
       "      <td>303.419463</td>\n",
       "    </tr>\n",
       "  </tbody>\n",
       "</table>\n",
       "</div>"
      ],
      "text/plain": [
       "              Price\n",
       "OldvNew            \n",
       "N        262.530579\n",
       "Y        303.419463"
      ]
     },
     "execution_count": 9,
     "metadata": {},
     "output_type": "execute_result"
    }
   ],
   "source": [
    "# Correlation of 'OldvNew' with 'Price'\n",
    "\n",
    "df[['OldvNew','Price']].groupby('OldvNew').mean()"
   ]
  },
  {
   "cell_type": "code",
   "execution_count": 10,
   "metadata": {},
   "outputs": [],
   "source": [
    "# We can map 'N' as 0 and 'Y' as 1 \n",
    "\n",
    "df['OldvNew']=df['OldvNew'].map({'N':1,'Y':2}).astype(int)"
   ]
  },
  {
   "cell_type": "code",
   "execution_count": 11,
   "metadata": {},
   "outputs": [
    {
     "data": {
      "text/plain": [
       "T    55760\n",
       "S    54905\n",
       "D    46606\n",
       "F    36632\n",
       "O    10355\n",
       "Name: Property Type, dtype: int64"
      ]
     },
     "execution_count": 11,
     "metadata": {},
     "output_type": "execute_result"
    }
   ],
   "source": [
    "# value count of each feature in column\n",
    "\n",
    "df['Property Type'].value_counts()"
   ]
  },
  {
   "cell_type": "code",
   "execution_count": 12,
   "metadata": {},
   "outputs": [
    {
     "data": {
      "image/png": "[encoded data removed]",
      "text/plain": [
       "<Figure size 432x288 with 1 Axes>"
      ]
     },
     "metadata": {
      "needs_background": "light"
     },
     "output_type": "display_data"
    }
   ],
   "source": [
    "# Plotting a bar graph of the number of occurances in category listed in the column 'OldvNew'\n",
    "\n",
    "prop_type_count= df['Property Type'].value_counts()\n",
    "plt.figure()\n",
    "am.barplot(prop_type_count.index, prop_type_count.values)\n",
    "plt.ylabel('Number of Occurrences')\n",
    "plt.xlabel('Property Type')\n",
    "plt.show()"
   ]
  },
  {
   "cell_type": "code",
   "execution_count": 13,
   "metadata": {},
   "outputs": [
    {
     "data": {
      "text/html": [
       "<div>\n",
       "<style scoped>\n",
       "    .dataframe tbody tr th:only-of-type {\n",
       "        vertical-align: middle;\n",
       "    }\n",
       "\n",
       "    .dataframe tbody tr th {\n",
       "        vertical-align: top;\n",
       "    }\n",
       "\n",
       "    .dataframe thead th {\n",
       "        text-align: right;\n",
       "    }\n",
       "</style>\n",
       "<table border=\"1\" class=\"dataframe\">\n",
       "  <thead>\n",
       "    <tr style=\"text-align: right;\">\n",
       "      <th></th>\n",
       "      <th>Price</th>\n",
       "    </tr>\n",
       "    <tr>\n",
       "      <th>Property Type</th>\n",
       "      <th></th>\n",
       "    </tr>\n",
       "  </thead>\n",
       "  <tbody>\n",
       "    <tr>\n",
       "      <td>D</td>\n",
       "      <td>368.283437</td>\n",
       "    </tr>\n",
       "    <tr>\n",
       "      <td>F</td>\n",
       "      <td>255.050157</td>\n",
       "    </tr>\n",
       "    <tr>\n",
       "      <td>O</td>\n",
       "      <td>276.701257</td>\n",
       "    </tr>\n",
       "    <tr>\n",
       "      <td>S</td>\n",
       "      <td>243.330430</td>\n",
       "    </tr>\n",
       "    <tr>\n",
       "      <td>T</td>\n",
       "      <td>214.139613</td>\n",
       "    </tr>\n",
       "  </tbody>\n",
       "</table>\n",
       "</div>"
      ],
      "text/plain": [
       "                    Price\n",
       "Property Type            \n",
       "D              368.283437\n",
       "F              255.050157\n",
       "O              276.701257\n",
       "S              243.330430\n",
       "T              214.139613"
      ]
     },
     "execution_count": 13,
     "metadata": {},
     "output_type": "execute_result"
    }
   ],
   "source": [
    "# Correlation of 'Property Type' and 'Price'\n",
    "\n",
    "df[['Property Type','Price']].groupby('Property Type').mean()"
   ]
  },
  {
   "cell_type": "code",
   "execution_count": 14,
   "metadata": {},
   "outputs": [],
   "source": [
    "# we can consider Property as a ordinal data and map as 'T':1,'S':3,'F':4,'O':5,'D':11\n",
    "\n",
    "df['Property Type']=df['Property Type'].map({'T':1,'S':3,'F':4,'O':5,'D':11}).astype(int)"
   ]
  },
  {
   "cell_type": "code",
   "execution_count": 15,
   "metadata": {},
   "outputs": [
    {
     "data": {
      "text/plain": [
       "F    155601\n",
       "L     48657\n",
       "Name: Duration, dtype: int64"
      ]
     },
     "execution_count": 15,
     "metadata": {},
     "output_type": "execute_result"
    }
   ],
   "source": [
    "# value count of each feature in column\n",
    "\n",
    "df['Duration'].value_counts()"
   ]
  },
  {
   "cell_type": "code",
   "execution_count": 16,
   "metadata": {},
   "outputs": [
    {
     "data": {
      "image/png": "[encoded data removed]",
      "text/plain": [
       "<Figure size 432x288 with 1 Axes>"
      ]
     },
     "metadata": {
      "needs_background": "light"
     },
     "output_type": "display_data"
    }
   ],
   "source": [
    "# Plotting a bar graph of the number of occurances in category listed in the column 'OldvNew'\n",
    "\n",
    "duration_count= df['Duration'].value_counts()\n",
    "plt.figure()\n",
    "am.barplot(duration_count.index, duration_count.values)\n",
    "plt.ylabel('Number of Occurrences')\n",
    "plt.xlabel('Duration')\n",
    "plt.show()"
   ]
  },
  {
   "cell_type": "code",
   "execution_count": 17,
   "metadata": {},
   "outputs": [
    {
     "data": {
      "text/html": [
       "<div>\n",
       "<style scoped>\n",
       "    .dataframe tbody tr th:only-of-type {\n",
       "        vertical-align: middle;\n",
       "    }\n",
       "\n",
       "    .dataframe tbody tr th {\n",
       "        vertical-align: top;\n",
       "    }\n",
       "\n",
       "    .dataframe thead th {\n",
       "        text-align: right;\n",
       "    }\n",
       "</style>\n",
       "<table border=\"1\" class=\"dataframe\">\n",
       "  <thead>\n",
       "    <tr style=\"text-align: right;\">\n",
       "      <th></th>\n",
       "      <th>Price</th>\n",
       "    </tr>\n",
       "    <tr>\n",
       "      <th>Duration</th>\n",
       "      <th></th>\n",
       "    </tr>\n",
       "  </thead>\n",
       "  <tbody>\n",
       "    <tr>\n",
       "      <td>F</td>\n",
       "      <td>277.231413</td>\n",
       "    </tr>\n",
       "    <tr>\n",
       "      <td>L</td>\n",
       "      <td>237.065413</td>\n",
       "    </tr>\n",
       "  </tbody>\n",
       "</table>\n",
       "</div>"
      ],
      "text/plain": [
       "               Price\n",
       "Duration            \n",
       "F         277.231413\n",
       "L         237.065413"
      ]
     },
     "execution_count": 17,
     "metadata": {},
     "output_type": "execute_result"
    }
   ],
   "source": [
    "# Correlation of 'Duration' and 'Price'\n",
    "\n",
    "df[['Duration','Price']].groupby('Duration').mean()"
   ]
  },
  {
   "cell_type": "code",
   "execution_count": 18,
   "metadata": {},
   "outputs": [],
   "source": [
    "# We can map 'F' as 1 and 'L' as 0 \n",
    "\n",
    "df['Duration']=df['Duration'].map({'L':1,'F':2}).astype(int)"
   ]
  },
  {
   "cell_type": "code",
   "execution_count": 19,
   "metadata": {},
   "outputs": [
    {
     "data": {
      "text/plain": [
       "A    175946\n",
       "B     28312\n",
       "Name: Price Category, dtype: int64"
      ]
     },
     "execution_count": 19,
     "metadata": {},
     "output_type": "execute_result"
    }
   ],
   "source": [
    "df['Price Category'].value_counts()"
   ]
  },
  {
   "cell_type": "code",
   "execution_count": 20,
   "metadata": {},
   "outputs": [
    {
     "data": {
      "image/png": "[encoded data removed]",
      "text/plain": [
       "<Figure size 432x288 with 1 Axes>"
      ]
     },
     "metadata": {
      "needs_background": "light"
     },
     "output_type": "display_data"
    }
   ],
   "source": [
    "# Plotting a bar graph of the number of occurances in category listed in the column 'Price Category'\n",
    "\n",
    "duration_count= df['Price Category'].value_counts()\n",
    "plt.figure()\n",
    "am.barplot(duration_count.index, duration_count.values)\n",
    "plt.ylabel('Number of Occurrences')\n",
    "plt.xlabel('Price Category')\n",
    "plt.show()"
   ]
  },
  {
   "cell_type": "code",
   "execution_count": 21,
   "metadata": {},
   "outputs": [
    {
     "data": {
      "text/html": [
       "<div>\n",
       "<style scoped>\n",
       "    .dataframe tbody tr th:only-of-type {\n",
       "        vertical-align: middle;\n",
       "    }\n",
       "\n",
       "    .dataframe tbody tr th {\n",
       "        vertical-align: top;\n",
       "    }\n",
       "\n",
       "    .dataframe thead th {\n",
       "        text-align: right;\n",
       "    }\n",
       "</style>\n",
       "<table border=\"1\" class=\"dataframe\">\n",
       "  <thead>\n",
       "    <tr style=\"text-align: right;\">\n",
       "      <th></th>\n",
       "      <th>Price</th>\n",
       "    </tr>\n",
       "    <tr>\n",
       "      <th>Price Category</th>\n",
       "      <th></th>\n",
       "    </tr>\n",
       "  </thead>\n",
       "  <tbody>\n",
       "    <tr>\n",
       "      <td>A</td>\n",
       "      <td>272.156027</td>\n",
       "    </tr>\n",
       "    <tr>\n",
       "      <td>B</td>\n",
       "      <td>239.789699</td>\n",
       "    </tr>\n",
       "  </tbody>\n",
       "</table>\n",
       "</div>"
      ],
      "text/plain": [
       "                     Price\n",
       "Price Category            \n",
       "A               272.156027\n",
       "B               239.789699"
      ]
     },
     "execution_count": 21,
     "metadata": {},
     "output_type": "execute_result"
    }
   ],
   "source": [
    "# Correlation of 'Price Category' and 'Price'\n",
    "\n",
    "df[['Price Category','Price']].groupby('Price Category').mean()"
   ]
  },
  {
   "cell_type": "code",
   "execution_count": 22,
   "metadata": {},
   "outputs": [],
   "source": [
    "# We can map 'B' as 1 and 'A' as 2 \n",
    "\n",
    "df['Price Category']=df['Price Category'].map({'B':1,'A':2}).astype(int)"
   ]
  },
  {
   "cell_type": "code",
   "execution_count": 23,
   "metadata": {},
   "outputs": [
    {
     "data": {
      "text/plain": [
       "113"
      ]
     },
     "execution_count": 23,
     "metadata": {},
     "output_type": "execute_result"
    }
   ],
   "source": [
    "# No of unique District\n",
    "\n",
    "df['District'].value_counts().shape[0]"
   ]
  },
  {
   "cell_type": "code",
   "execution_count": 24,
   "metadata": {},
   "outputs": [
    {
     "data": {
      "text/html": [
       "<div>\n",
       "<style scoped>\n",
       "    .dataframe tbody tr th:only-of-type {\n",
       "        vertical-align: middle;\n",
       "    }\n",
       "\n",
       "    .dataframe tbody tr th {\n",
       "        vertical-align: top;\n",
       "    }\n",
       "\n",
       "    .dataframe thead th {\n",
       "        text-align: right;\n",
       "    }\n",
       "</style>\n",
       "<table border=\"1\" class=\"dataframe\">\n",
       "  <thead>\n",
       "    <tr style=\"text-align: right;\">\n",
       "      <th></th>\n",
       "      <th>Price</th>\n",
       "    </tr>\n",
       "    <tr>\n",
       "      <th>District</th>\n",
       "      <th></th>\n",
       "    </tr>\n",
       "  </thead>\n",
       "  <tbody>\n",
       "    <tr>\n",
       "      <td>HEUBLUW JZBLM</td>\n",
       "      <td>94.282520</td>\n",
       "    </tr>\n",
       "    <tr>\n",
       "      <td>HEUSGCYYE</td>\n",
       "      <td>120.146799</td>\n",
       "    </tr>\n",
       "    <tr>\n",
       "      <td>KOYLFFU SQLYL MUVV</td>\n",
       "      <td>120.173017</td>\n",
       "    </tr>\n",
       "    <tr>\n",
       "      <td>SRMQ YV GRLJXMYL WCYL OWEE</td>\n",
       "      <td>121.920458</td>\n",
       "    </tr>\n",
       "    <tr>\n",
       "      <td>XMYGB-YL-MKBLM</td>\n",
       "      <td>124.700595</td>\n",
       "    </tr>\n",
       "    <tr>\n",
       "      <td>...</td>\n",
       "      <td>...</td>\n",
       "    </tr>\n",
       "    <tr>\n",
       "      <td>OBKMVYKFXORKB</td>\n",
       "      <td>410.202076</td>\n",
       "    </tr>\n",
       "    <tr>\n",
       "      <td>ZYGRLJOUN</td>\n",
       "      <td>437.515725</td>\n",
       "    </tr>\n",
       "    <tr>\n",
       "      <td>XWKKBQ</td>\n",
       "      <td>442.752764</td>\n",
       "    </tr>\n",
       "    <tr>\n",
       "      <td>ZRLFXYK ULF NURFBLOBUF</td>\n",
       "      <td>445.602364</td>\n",
       "    </tr>\n",
       "    <tr>\n",
       "      <td>JKBUMBK EYLFYL</td>\n",
       "      <td>453.574913</td>\n",
       "    </tr>\n",
       "  </tbody>\n",
       "</table>\n",
       "<p>113 rows × 1 columns</p>\n",
       "</div>"
      ],
      "text/plain": [
       "                                 Price\n",
       "District                              \n",
       "HEUBLUW JZBLM                94.282520\n",
       "HEUSGCYYE                   120.146799\n",
       "KOYLFFU SQLYL MUVV          120.173017\n",
       "SRMQ YV GRLJXMYL WCYL OWEE  121.920458\n",
       "XMYGB-YL-MKBLM              124.700595\n",
       "...                                ...\n",
       "OBKMVYKFXORKB               410.202076\n",
       "ZYGRLJOUN                   437.515725\n",
       "XWKKBQ                      442.752764\n",
       "ZRLFXYK ULF NURFBLOBUF      445.602364\n",
       "JKBUMBK EYLFYL              453.574913\n",
       "\n",
       "[113 rows x 1 columns]"
      ]
     },
     "execution_count": 24,
     "metadata": {},
     "output_type": "execute_result"
    }
   ],
   "source": [
    "t=df[['District','Price']].groupby('District').mean()\n",
    "sorted_t = t.sort_values(by='Price')\n",
    "\n",
    "sorted_t"
   ]
  },
  {
   "cell_type": "code",
   "execution_count": 25,
   "metadata": {},
   "outputs": [
    {
     "data": {
      "text/plain": [
       "353"
      ]
     },
     "execution_count": 25,
     "metadata": {},
     "output_type": "execute_result"
    }
   ],
   "source": [
    "# No of unique Taluka\n",
    "\n",
    "df['Taluka'].value_counts().shape[0]"
   ]
  },
  {
   "cell_type": "code",
   "execution_count": 26,
   "metadata": {},
   "outputs": [
    {
     "data": {
      "text/plain": [
       "1138"
      ]
     },
     "execution_count": 26,
     "metadata": {},
     "output_type": "execute_result"
    }
   ],
   "source": [
    "# No of unique Town\n",
    "\n",
    "df['Town'].value_counts().shape[0]"
   ]
  },
  {
   "cell_type": "code",
   "execution_count": 27,
   "metadata": {},
   "outputs": [],
   "source": [
    "# No of Rows in our Train Dataset\n",
    "lenght_train=train.shape[0]\n",
    "\n",
    "# Target Variable of our Dataset\n",
    "y=train['Price']\n",
    "\n",
    "# Test TID Column\n",
    "tid=test['TID']\n"
   ]
  },
  {
   "cell_type": "code",
   "execution_count": 28,
   "metadata": {},
   "outputs": [],
   "source": [
    "# Dropping Postcode, Town, AddressLine1 due to many unique value\n",
    "# It will not be affordable to get dummies of the above one\n",
    "# we will also drop AddressLine2 and Locality because it have many null elements\n",
    "\n",
    "data=df[['District','Taluka','Price Category','OldvNew','Duration','Property Type']]\n",
    "data=pd.get_dummies(data)"
   ]
  },
  {
   "cell_type": "code",
   "execution_count": 29,
   "metadata": {},
   "outputs": [
    {
     "ename": "NameError",
     "evalue": "name 'ltrain' is not defined",
     "output_type": "error",
     "traceback": [
      "\u001b[1;31m---------------------------------------------------------------------------\u001b[0m",
      "\u001b[1;31mNameError\u001b[0m                                 Traceback (most recent call last)",
      "\u001b[1;32m<ipython-input-29-e62991f49194>\u001b[0m in \u001b[0;36m<module>\u001b[1;34m\u001b[0m\n\u001b[1;32m----> 1\u001b[1;33m \u001b[0mx\u001b[0m\u001b[1;33m=\u001b[0m\u001b[0mdata\u001b[0m\u001b[1;33m[\u001b[0m\u001b[1;33m:\u001b[0m\u001b[0mltrain\u001b[0m\u001b[1;33m]\u001b[0m\u001b[1;33m\u001b[0m\u001b[1;33m\u001b[0m\u001b[0m\n\u001b[0m\u001b[0;32m      2\u001b[0m \u001b[0mtestdata\u001b[0m\u001b[1;33m=\u001b[0m\u001b[0mdata\u001b[0m\u001b[1;33m[\u001b[0m\u001b[0mltrain\u001b[0m\u001b[1;33m:\u001b[0m\u001b[1;33m]\u001b[0m\u001b[1;33m\u001b[0m\u001b[1;33m\u001b[0m\u001b[0m\n",
      "\u001b[1;31mNameError\u001b[0m: name 'ltrain' is not defined"
     ]
    }
   ],
   "source": [
    "x=data[:ltrain]\n",
    "testdata=data[ltrain:]"
   ]
  },
  {
   "cell_type": "code",
   "execution_count": null,
   "metadata": {},
   "outputs": [],
   "source": [
    "x"
   ]
  },
  {
   "cell_type": "code",
   "execution_count": null,
   "metadata": {},
   "outputs": [],
   "source": [
    "# We got a huge no of columns by getting dummies of the data.So we have to reduce the no of columns.\n",
    "# For this we will use Dimensional Reductional Technique, PCA(Principle Component Analysis)\n",
    "# to remove the columns which doesn't provide significant amount of information to us\n",
    "\n",
    "\n",
    "# Applying PCA function on training data and testdata\n",
    " \n",
    "  \n",
    "pca = PCA() \n",
    "  \n",
    "x = pca.fit_transform(x) \n",
    "testdata = pca.transform(testdata) \n",
    "  \n",
    "pca.explained_variance_ratio_"
   ]
  },
  {
   "cell_type": "code",
   "execution_count": null,
   "metadata": {},
   "outputs": [],
   "source": [
    "# We can see last 114 element doesn't contribute significantly information. So, we will drop the last 114 element.\n",
    "pca=PCA(n_components=356)\n",
    "x = pca.fit_transform(x) \n",
    "testdata = pca.transform(testdata) \n",
    "\n",
    "# We have prepared our Raw Data"
   ]
  },
  {
   "cell_type": "code",
   "execution_count": null,
   "metadata": {},
   "outputs": [],
   "source": [
    "# Finally Traing our model\n",
    "\n",
    "lm=LinearRegression().fit(x,np.log(y))\n",
    "lm.coef_\n"
   ]
  },
  {
   "cell_type": "code",
   "execution_count": null,
   "metadata": {},
   "outputs": [],
   "source": [
    "y_pred=lm.predict(testdata)\n",
    "y_pred=np.exp(y_pred)\n",
    "y_pred"
   ]
  },
  {
   "cell_type": "code",
   "execution_count": null,
   "metadata": {},
   "outputs": [],
   "source": [
    "output = pd.DataFrame({'TID': tid, 'Price': y_pred})\n",
    "output.to_csv('prediction.csv', index=False)"
   ]
  }
 ],
 "metadata": {
  "kernelspec": {
   "display_name": "Python 3",
   "language": "python",
   "name": "python3"
  },
  "language_info": {
   "codemirror_mode": {
    "name": "ipython",
    "version": 3
   },
   "file_extension": ".py",
   "mimetype": "text/x-python",
   "name": "python",
   "nbconvert_exporter": "python",
   "pygments_lexer": "ipython3",
   "version": "3.7.4"
  }
 },
 "nbformat": 4,
 "nbformat_minor": 2
}
